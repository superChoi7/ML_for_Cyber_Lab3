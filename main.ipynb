{
 "cells": [
  {
   "cell_type": "markdown",
   "metadata": {
    "id": "Y7VU01REW4bD"
   },
   "source": [
    "# A Backdoor Detector for BadNets Trained on the YouTube Face Dataset using the Pruning Defense\n",
    "\n",
    "Github link: https://github.com/superChoi7/ML_for_Cyber_Lab3\n"
   ]
  },
  {
   "cell_type": "markdown",
   "metadata": {
    "id": "CYWiWQTyYALt"
   },
   "source": [
    "## 1. Prepare the BadNet model and dataset"
   ]
  },
  {
   "cell_type": "code",
   "execution_count": null,
   "metadata": {
    "id": "ldmJ7DkZZlIo"
   },
   "outputs": [],
   "source": [
    "import tensorflow as tf\n",
    "import keras\n",
    "import keras.backend as K\n",
    "from keras import Model\n",
    "\n",
    "import h5py\n",
    "import numpy as np\n",
    "import matplotlib.pyplot as plt\n",
    "%matplotlib inline"
   ]
  },
  {
   "cell_type": "markdown",
   "metadata": {
    "id": "eBMv8ks5YKgI"
   },
   "source": [
    "Mount the google drive. The working directory in my google drive is located at `/content/drive/MyDrive/EL-GY-9163/lab3`."
   ]
  },
  {
   "cell_type": "code",
   "execution_count": null,
   "metadata": {
    "colab": {
     "base_uri": "https://localhost:8080/"
    },
    "executionInfo": {
     "elapsed": 13258,
     "status": "ok",
     "timestamp": 1639354481563,
     "user": {
      "displayName": "Zhiying Cui",
      "photoUrl": "https://lh3.googleusercontent.com/a/default-user=s64",
      "userId": "00010876004313184189"
     },
     "user_tz": 300
    },
    "id": "caHEA7qjYJay",
    "outputId": "a14b9ef1-4dea-4fea-8bb7-7e9cc7cc7d1c"
   },
   "outputs": [
    {
     "name": "stdout",
     "output_type": "stream",
     "text": [
      "Mounted at /content/drive\n",
      "/content/drive/.shortcut-targets-by-id/1DVXVgBaG-lYX7_2AmIi-DZ5gD-U0Z4O-/EL-GY-9163/lab3\n"
     ]
    }
   ],
   "source": [
    "# mount google drive\n",
    "from google.colab import drive\n",
    "drive.mount('/content/drive')\n",
    "# change to the working dirctory\n",
    "%cd /content/drive/MyDrive/EL-GY-9163/lab3"
   ]
  },
  {
   "cell_type": "markdown",
   "metadata": {
    "id": "0uEEkH7cUyr0"
   },
   "source": [
    "If you execute the notebook on your local environment, skip the above code block. Follow the instruction in the `README.md` to download the dataset to the folder `data/` and continue the following sections."
   ]
  },
  {
   "cell_type": "markdown",
   "metadata": {
    "id": "9FjtPRa15w-l"
   },
   "source": [
    "### 1.1 Set up model\n"
   ]
  },
  {
   "cell_type": "markdown",
   "metadata": {
    "id": "C5In93EZrmtj"
   },
   "source": [
    "Import the BadNet model `model_B` from `models/` folder."
   ]
  },
  {
   "cell_type": "code",
   "execution_count": null,
   "metadata": {
    "colab": {
     "base_uri": "https://localhost:8080/"
    },
    "executionInfo": {
     "elapsed": 4775,
     "status": "ok",
     "timestamp": 1639354497979,
     "user": {
      "displayName": "Zhiying Cui",
      "photoUrl": "https://lh3.googleusercontent.com/a/default-user=s64",
      "userId": "00010876004313184189"
     },
     "user_tz": 300
    },
    "id": "ZKP9_j9YCzgy",
    "outputId": "1ee335f5-f5c5-41cf-8b81-127a717afb33"
   },
   "outputs": [
    {
     "name": "stdout",
     "output_type": "stream",
     "text": [
      "Model: \"model_1\"\n",
      "__________________________________________________________________________________________________\n",
      " Layer (type)                   Output Shape         Param #     Connected to                     \n",
      "==================================================================================================\n",
      " input (InputLayer)             [(None, 55, 47, 3)]  0           []                               \n",
      "                                                                                                  \n",
      " conv_1 (Conv2D)                (None, 52, 44, 20)   980         ['input[0][0]']                  \n",
      "                                                                                                  \n",
      " pool_1 (MaxPooling2D)          (None, 26, 22, 20)   0           ['conv_1[0][0]']                 \n",
      "                                                                                                  \n",
      " conv_2 (Conv2D)                (None, 24, 20, 40)   7240        ['pool_1[0][0]']                 \n",
      "                                                                                                  \n",
      " pool_2 (MaxPooling2D)          (None, 12, 10, 40)   0           ['conv_2[0][0]']                 \n",
      "                                                                                                  \n",
      " conv_3 (Conv2D)                (None, 10, 8, 60)    21660       ['pool_2[0][0]']                 \n",
      "                                                                                                  \n",
      " pool_3 (MaxPooling2D)          (None, 5, 4, 60)     0           ['conv_3[0][0]']                 \n",
      "                                                                                                  \n",
      " conv_4 (Conv2D)                (None, 4, 3, 80)     19280       ['pool_3[0][0]']                 \n",
      "                                                                                                  \n",
      " flatten_1 (Flatten)            (None, 1200)         0           ['pool_3[0][0]']                 \n",
      "                                                                                                  \n",
      " flatten_2 (Flatten)            (None, 960)          0           ['conv_4[0][0]']                 \n",
      "                                                                                                  \n",
      " fc_1 (Dense)                   (None, 160)          192160      ['flatten_1[0][0]']              \n",
      "                                                                                                  \n",
      " fc_2 (Dense)                   (None, 160)          153760      ['flatten_2[0][0]']              \n",
      "                                                                                                  \n",
      " add_1 (Add)                    (None, 160)          0           ['fc_1[0][0]',                   \n",
      "                                                                  'fc_2[0][0]']                   \n",
      "                                                                                                  \n",
      " activation_1 (Activation)      (None, 160)          0           ['add_1[0][0]']                  \n",
      "                                                                                                  \n",
      " output (Dense)                 (None, 1283)         206563      ['activation_1[0][0]']           \n",
      "                                                                                                  \n",
      "==================================================================================================\n",
      "Total params: 601,643\n",
      "Trainable params: 601,643\n",
      "Non-trainable params: 0\n",
      "__________________________________________________________________________________________________\n"
     ]
    }
   ],
   "source": [
    "modelPath = './models/bd_net.h5'\n",
    "model_B = keras.models.load_model(modelPath)\n",
    "model_B.summary()"
   ]
  },
  {
   "cell_type": "markdown",
   "metadata": {
    "id": "8kawezR75932"
   },
   "source": [
    "Use `eval.py` script to output the accuracy and the attack succeed rate of the BadNet model on the clean dataset and the backdoored dataset, respectively."
   ]
  },
  {
   "cell_type": "code",
   "execution_count": null,
   "metadata": {
    "colab": {
     "base_uri": "https://localhost:8080/"
    },
    "executionInfo": {
     "elapsed": 17793,
     "status": "ok",
     "timestamp": 1639251828260,
     "user": {
      "displayName": "Zhiying Cui",
      "photoUrl": "https://lh3.googleusercontent.com/a/default-user=s64",
      "userId": "00010876004313184189"
     },
     "user_tz": 300
    },
    "id": "Sh2vLOGR5dwo",
    "outputId": "be31fc67-c6a6-4268-a53e-e04ee6c55f75"
   },
   "outputs": [
    {
     "name": "stdout",
     "output_type": "stream",
     "text": [
      "2021-12-11 19:43:37.741877: W tensorflow/core/common_runtime/gpu/gpu_bfc_allocator.cc:39] Overriding allow_growth setting because the TF_FORCE_GPU_ALLOW_GROWTH environment variable is set. Original config value was 0.\n",
      "Clean Classification accuracy: 98.62042088854248\n",
      "Attack Success Rate: 100.0\n"
     ]
    }
   ],
   "source": [
    "!python eval.py data/cl/test.h5 data/bd/bd_test.h5 models/bd_net.h5"
   ]
  },
  {
   "cell_type": "markdown",
   "metadata": {
    "id": "3gDFrf9t52Dl"
   },
   "source": [
    "### 1.2 Import dataset"
   ]
  },
  {
   "cell_type": "markdown",
   "metadata": {
    "id": "y11gw-bT5gFf"
   },
   "source": [
    "Import dataset from `data/` folder."
   ]
  },
  {
   "cell_type": "code",
   "execution_count": null,
   "metadata": {
    "id": "yV0psCgkpCxN"
   },
   "outputs": [],
   "source": [
    "def data_loader(filepath):\n",
    "    \"\"\"\n",
    "    Load data\n",
    "    \"\"\"\n",
    "    data = h5py.File(filepath, 'r')\n",
    "    x_data = np.array(data['data'])\n",
    "    y_data = np.array(data['label'])\n",
    "    x_data = x_data.transpose((0,2,3,1))\n",
    "    return x_data, y_data\n",
    "\n",
    "def get_accuracy_cl(bd_model, cl_x, cl_y):\n",
    "    \"\"\"\n",
    "    Classification accuracy on clean dataset\n",
    "    \"\"\"\n",
    "    cl_label_p = np.argmax(bd_model.predict(cl_x), axis=1)\n",
    "    cl_acc = np.mean(np.equal(cl_label_p, cl_y))*100\n",
    "    print('Clean Classification accuracy:', cl_acc)\n",
    "    return cl_acc\n",
    "\n",
    "def get_attack_rate_bd(bd_model, bd_x, bd_y):\n",
    "    \"\"\"\n",
    "    Attack success rate\n",
    "    \"\"\"\n",
    "    bd_label_p = np.argmax(bd_model.predict(bd_x), axis=1)\n",
    "    asr = np.mean(np.equal(bd_label_p, bd_y))*100\n",
    "    print('Attack Success Rate:', asr)\n",
    "    return asr"
   ]
  },
  {
   "cell_type": "code",
   "execution_count": null,
   "metadata": {
    "id": "2ffN0anyelzk"
   },
   "outputs": [],
   "source": [
    "# load dataset\n",
    "cl_x_test, cl_y_test = data_loader('./data/cl/test.h5')\n",
    "cl_x_valid, cl_y_valid = data_loader('./data/cl/valid.h5')\n",
    "bd_x_test, bd_y_test = data_loader('./data/bd/bd_test.h5')\n",
    "bd_x_valid, bd_y_valid = data_loader('./data/bd/bd_valid.h5')\n",
    "N = len(set(cl_y_test))"
   ]
  },
  {
   "cell_type": "code",
   "execution_count": null,
   "metadata": {
    "colab": {
     "base_uri": "https://localhost:8080/"
    },
    "executionInfo": {
     "elapsed": 109,
     "status": "ok",
     "timestamp": 1639355027890,
     "user": {
      "displayName": "Zhiying Cui",
      "photoUrl": "https://lh3.googleusercontent.com/a/default-user=s64",
      "userId": "00010876004313184189"
     },
     "user_tz": 300
    },
    "id": "KCRGxrEBikw5",
    "outputId": "9c09b90e-6236-4e93-a990-759aaf2690bc"
   },
   "outputs": [
    {
     "name": "stdout",
     "output_type": "stream",
     "text": [
      "cl_x_test.shape (12830, 55, 47, 3)\n",
      "cl_x_valid.shape (11547, 55, 47, 3)\n",
      "bd_x_test.shape (12830, 55, 47, 3)\n",
      "bd_x_valid.shape (11547, 55, 47, 3)\n",
      "number of labels: 1283\n"
     ]
    }
   ],
   "source": [
    "print('cl_x_test.shape', cl_x_test.shape)\n",
    "print('cl_x_valid.shape', cl_x_valid.shape)\n",
    "print('bd_x_test.shape', bd_x_test.shape)\n",
    "print('bd_x_valid.shape', bd_x_valid.shape)\n",
    "print('number of labels: {}'.format(N))"
   ]
  },
  {
   "cell_type": "markdown",
   "metadata": {
    "id": "28Ph1AOB6aXu"
   },
   "source": [
    "Plot some images to see differences between the clean dataset and the backdoored dataset."
   ]
  },
  {
   "cell_type": "code",
   "execution_count": null,
   "metadata": {
    "colab": {
     "base_uri": "https://localhost:8080/",
     "height": 153
    },
    "executionInfo": {
     "elapsed": 1071,
     "status": "ok",
     "timestamp": 1639251852634,
     "user": {
      "displayName": "Zhiying Cui",
      "photoUrl": "https://lh3.googleusercontent.com/a/default-user=s64",
      "userId": "00010876004313184189"
     },
     "user_tz": 300
    },
    "id": "c7TDJtcDse4E",
    "outputId": "9e71080a-160b-4872-d82c-c0442e7c99aa"
   },
   "outputs": [
    {
     "data": {
      "image/png": "[encoded data removed]",
      "text/plain": [
       "<Figure size 720x72 with 9 Axes>"
      ]
     },
     "metadata": {
      "needs_background": "light"
     },
     "output_type": "display_data"
    },
    {
     "data": {
      "image/png": "[encoded data removed]",
      "text/plain": [
       "<Figure size 720x72 with 9 Axes>"
      ]
     },
     "metadata": {
      "needs_background": "light"
     },
     "output_type": "display_data"
    }
   ],
   "source": [
    "def plot_images(row, col, images):\n",
    "    plt.figure(figsize=(col, row))\n",
    "    for i in range(1, row*col):\n",
    "        plt.subplot(row, col, i)\n",
    "        plt.axis('off')\n",
    "        plt.imshow(images[i] / 255)\n",
    "\n",
    "plot_images(1, 10, cl_x_test)\n",
    "plot_images(1, 10, bd_x_test)"
   ]
  },
  {
   "cell_type": "markdown",
   "metadata": {
    "id": "yQv8zKqV-Kpr"
   },
   "source": [
    "## 2. Repair the BadNet\n",
    "\n",
    "Given a backdoored neural network classifier `model_B` and a validation dataset of clean data `cl_x_valid`, our primary objectives are:\n",
    "- Prune channels in increasing order of average activation values over the entire validation dataset to obtain the new network `model_B_prime`.\n",
    "- Use `model_B` and `model_B_prime` to construct a \"GoodNet\", which outputs the true label if the input is clean, otherwise outputs N where N is the number of correct classes.\n",
    "\n",
    "Requirements in lab3 are as follows and the strategy to handle each is given accordingly:\n",
    "\n",
    "1. *Prune the last pooling layer of BadNet `model_B` by removing one channel at a time from that layer.* <br />\n",
    "From the output of `model_B.summary()`, we can see that the layer just before the FC layers is `conv_3`. Therefore, we select the `conv_3` layer to perform the pruning process. The pruning method is setting all weights and biases to 0.\n",
    "\n",
    "2. *Channels should be removed in increasing order of average activation values over the entire validation set.* <br />\n",
    "First, we compute the average activation values of each channels in the `conv_3` layer. Then, sort them in increasing order. Finnally, prune the channels by the sorted index order.\n",
    "\n",
    "3. *You will stop pruning once the validation accuracy drops atleast X% below the original accuracy. This will be your new network `model_B_prime`.* <br />\n",
    "We need to obtain three `model_B_prime` for X = {2%, 4%, 10%}. And evalute the performance of each of them.\n"
   ]
  },
  {
   "cell_type": "markdown",
   "metadata": {
    "id": "AaY4F2E75vyw"
   },
   "source": [
    "### 2.1 Compute average activation values and sort them in order"
   ]
  },
  {
   "cell_type": "code",
   "execution_count": null,
   "metadata": {
    "colab": {
     "base_uri": "https://localhost:8080/"
    },
    "executionInfo": {
     "elapsed": 2499,
     "status": "ok",
     "timestamp": 1639356544503,
     "user": {
      "displayName": "Zhiying Cui",
      "photoUrl": "https://lh3.googleusercontent.com/a/default-user=s64",
      "userId": "00010876004313184189"
     },
     "user_tz": 300
    },
    "id": "YmrgBWQ4DIwL",
    "outputId": "1fd1cbb6-42af-4eda-9d2d-4296529b4958"
   },
   "outputs": [
    {
     "name": "stdout",
     "output_type": "stream",
     "text": [
      "pruning order: [ 0 26 27 30 31 33 34 36 37 38 25 39 41 44 45 47 48 49 50 53 55 40 24 59\n",
      "  9  2 12 13 17 14 15 23  6 51 32 22 21 20 19 43  3 58 42  1 29 16  5 56\n",
      "  8 11 46 54 10  4 18  7 28 35 52 57]\n",
      "sum of values: [0.0000000e+00 0.0000000e+00 0.0000000e+00 0.0000000e+00 0.0000000e+00\n",
      " 0.0000000e+00 0.0000000e+00 0.0000000e+00 0.0000000e+00 0.0000000e+00\n",
      " 0.0000000e+00 0.0000000e+00 0.0000000e+00 0.0000000e+00 0.0000000e+00\n",
      " 0.0000000e+00 0.0000000e+00 0.0000000e+00 0.0000000e+00 0.0000000e+00\n",
      " 0.0000000e+00 0.0000000e+00 0.0000000e+00 0.0000000e+00 0.0000000e+00\n",
      " 0.0000000e+00 0.0000000e+00 0.0000000e+00 0.0000000e+00 0.0000000e+00\n",
      " 0.0000000e+00 8.1761241e-02 1.7022049e-01 3.4326324e-01 3.5326570e-01\n",
      " 1.1469307e+00 2.5636518e+00 5.0632777e+00 8.5227070e+00 1.2338528e+01\n",
      " 1.7449804e+01 1.7924015e+01 2.1239485e+01 2.2799480e+01 3.7998375e+01\n",
      " 5.7887745e+01 6.9720184e+01 7.0036171e+01 7.1875938e+01 8.5014481e+01\n",
      " 8.7924690e+01 1.6558408e+02 1.9046291e+02 2.2774966e+02 2.3424629e+02\n",
      " 2.3575995e+02 2.4531390e+02 2.8121811e+02 3.2685696e+02 3.9856320e+02]\n"
     ]
    }
   ],
   "source": [
    "model_B_prime = keras.models.load_model(modelPath)\n",
    "conv_3_layer = Model(inputs=model_B_prime.input, outputs=model_B_prime.get_layer('conv_3').output)\n",
    "\n",
    "cl_output = np.mean(conv_3_layer.predict(cl_x_valid), axis=0) # average activation values\n",
    "idx_cl = np.argsort(np.sum(cl_output, axis=(0, 1))) # sort in increasing order by sum of values\n",
    "print('pruning order:', idx_cl)\n",
    "print('sum of values:', np.sort(np.sum(cl_output, axis=(0, 1))))"
   ]
  },
  {
   "cell_type": "markdown",
   "metadata": {
    "id": "kCtwunOq7uZS"
   },
   "source": [
    "### 2.2 Prune the channel by order and plot the accuracy and on the clean validation dataset"
   ]
  },
  {
   "cell_type": "code",
   "execution_count": null,
   "metadata": {
    "colab": {
     "base_uri": "https://localhost:8080/"
    },
    "executionInfo": {
     "elapsed": 144178,
     "status": "ok",
     "timestamp": 1639252008408,
     "user": {
      "displayName": "Zhiying Cui",
      "photoUrl": "https://lh3.googleusercontent.com/a/default-user=s64",
      "userId": "00010876004313184189"
     },
     "user_tz": 300
    },
    "id": "TjVyLdPhddRm",
    "outputId": "c41b3ab7-dd05-45d3-dfb6-9e734c4fb5bd"
   },
   "outputs": [
    {
     "name": "stdout",
     "output_type": "stream",
     "text": [
      "original accuracy\n",
      "Clean Classification accuracy: 98.64899974019225\n",
      "iteration  1\n",
      "Clean Classification accuracy: 98.64899974019225\n",
      "iteration  2\n",
      "Clean Classification accuracy: 98.64899974019225\n",
      "iteration  3\n",
      "Clean Classification accuracy: 98.64899974019225\n",
      "iteration  4\n",
      "Clean Classification accuracy: 98.64899974019225\n",
      "iteration  5\n",
      "Clean Classification accuracy: 98.64899974019225\n",
      "iteration  6\n",
      "Clean Classification accuracy: 98.64899974019225\n",
      "iteration  7\n",
      "Clean Classification accuracy: 98.64899974019225\n",
      "iteration  8\n",
      "Clean Classification accuracy: 98.64899974019225\n",
      "iteration  9\n",
      "Clean Classification accuracy: 98.64899974019225\n",
      "iteration  10\n",
      "Clean Classification accuracy: 98.64899974019225\n",
      "iteration  11\n",
      "Clean Classification accuracy: 98.64899974019225\n",
      "iteration  12\n",
      "Clean Classification accuracy: 98.64899974019225\n",
      "iteration  13\n",
      "Clean Classification accuracy: 98.64899974019225\n",
      "iteration  14\n",
      "Clean Classification accuracy: 98.64899974019225\n",
      "iteration  15\n",
      "Clean Classification accuracy: 98.64899974019225\n",
      "iteration  16\n",
      "Clean Classification accuracy: 98.64899974019225\n",
      "iteration  17\n",
      "Clean Classification accuracy: 98.64899974019225\n",
      "iteration  18\n",
      "Clean Classification accuracy: 98.64899974019225\n",
      "iteration  19\n",
      "Clean Classification accuracy: 98.64899974019225\n",
      "iteration  20\n",
      "Clean Classification accuracy: 98.64899974019225\n",
      "iteration  21\n",
      "Clean Classification accuracy: 98.64899974019225\n",
      "iteration  22\n",
      "Clean Classification accuracy: 98.64899974019225\n",
      "iteration  23\n",
      "Clean Classification accuracy: 98.64899974019225\n",
      "iteration  24\n",
      "Clean Classification accuracy: 98.64899974019225\n",
      "iteration  25\n",
      "Clean Classification accuracy: 98.64899974019225\n",
      "iteration  26\n",
      "Clean Classification accuracy: 98.64899974019225\n",
      "iteration  27\n",
      "Clean Classification accuracy: 98.64899974019225\n",
      "iteration  28\n",
      "Clean Classification accuracy: 98.64899974019225\n",
      "iteration  29\n",
      "Clean Classification accuracy: 98.64899974019225\n",
      "iteration  30\n",
      "Clean Classification accuracy: 98.64899974019225\n",
      "iteration  31\n",
      "Clean Classification accuracy: 98.64899974019225\n",
      "iteration  32\n",
      "Clean Classification accuracy: 98.64899974019225\n",
      "iteration  33\n",
      "Clean Classification accuracy: 98.64899974019225\n",
      "iteration  34\n",
      "Clean Classification accuracy: 98.64033948211657\n",
      "iteration  35\n",
      "Clean Classification accuracy: 98.64033948211657\n",
      "iteration  36\n",
      "Clean Classification accuracy: 98.63167922404088\n",
      "iteration  37\n",
      "Clean Classification accuracy: 98.65765999826795\n",
      "iteration  38\n",
      "Clean Classification accuracy: 98.64899974019225\n",
      "iteration  39\n",
      "Clean Classification accuracy: 98.6056984498138\n",
      "iteration  40\n",
      "Clean Classification accuracy: 98.57105741751104\n",
      "iteration  41\n",
      "Clean Classification accuracy: 98.25062786871048\n",
      "iteration  42\n",
      "Clean Classification accuracy: 98.19000606218066\n",
      "iteration  43\n",
      "Clean Classification accuracy: 97.65307006148784\n",
      "iteration  44\n",
      "Clean Classification accuracy: 97.50584567420108\n",
      "iteration  45\n",
      "Clean Classification accuracy: 95.75647354291158\n",
      "iteration  46\n",
      "Clean Classification accuracy: 95.20221702606739\n",
      "iteration  47\n",
      "Clean Classification accuracy: 94.77786438035854\n",
      "iteration  48\n",
      "Clean Classification accuracy: 94.344851476574\n",
      "iteration  49\n",
      "Clean Classification accuracy: 93.85121676625964\n",
      "iteration  50\n",
      "Clean Classification accuracy: 92.16246644149996\n",
      "iteration  51\n",
      "Clean Classification accuracy: 89.17467740538669\n",
      "iteration  52\n",
      "Clean Classification accuracy: 84.43751623798389\n",
      "iteration  53\n",
      "Clean Classification accuracy: 76.48739932449988\n",
      "iteration  54\n",
      "Clean Classification accuracy: 45.6915216073439\n",
      "iteration  55\n",
      "Clean Classification accuracy: 28.15449900407032\n",
      "iteration  56\n",
      "Clean Classification accuracy: 13.795791114575215\n",
      "iteration  57\n",
      "Clean Classification accuracy: 5.81103316878843\n",
      "iteration  58\n",
      "Clean Classification accuracy: 1.5501861955486274\n",
      "iteration  59\n",
      "Clean Classification accuracy: 0.7188014202823244\n",
      "iteration  60\n",
      "Clean Classification accuracy: 0.0779423226812159\n"
     ]
    }
   ],
   "source": [
    "model_B_prime = keras.models.load_model(modelPath)\n",
    "layer = model_B_prime.get_layer('conv_3')\n",
    "weight, bias = layer.get_weights()\n",
    "\n",
    "iter = 0\n",
    "acc_cl = []\n",
    "print('original accuracy')\n",
    "acc_cl.append(get_accuracy_cl(model_B_prime, cl_x_valid, cl_y_valid))\n",
    "\n",
    "for i in idx_cl:\n",
    "    weight[:, :, :, i] = 0\n",
    "    bias[i] = 0\n",
    "    layer.set_weights([weight, bias])\n",
    "    iter += 1\n",
    "    print('iteration ', iter)\n",
    "    acc_cl.append(get_accuracy_cl(model_B_prime, cl_x_valid, cl_y_valid))"
   ]
  },
  {
   "cell_type": "code",
   "execution_count": null,
   "metadata": {
    "colab": {
     "base_uri": "https://localhost:8080/",
     "height": 350
    },
    "executionInfo": {
     "elapsed": 797,
     "status": "ok",
     "timestamp": 1639252326391,
     "user": {
      "displayName": "Zhiying Cui",
      "photoUrl": "https://lh3.googleusercontent.com/a/default-user=s64",
      "userId": "00010876004313184189"
     },
     "user_tz": 300
    },
    "id": "cjp30JHoBEqk",
    "outputId": "311e3d27-9b07-4cf1-8343-aa74bda1553d"
   },
   "outputs": [
    {
     "data": {
      "image/png": "[encoded data removed]",
      "text/plain": [
       "<Figure size 360x360 with 1 Axes>"
      ]
     },
     "metadata": {
      "needs_background": "light"
     },
     "output_type": "display_data"
    }
   ],
   "source": [
    "# plot the accuracy\n",
    "plt.figure(figsize=(5, 5))\n",
    "plt.plot(range(len(acc_cl)), acc_cl / acc_cl[0])\n",
    "plt.xlabel('#pruned channels')\n",
    "plt.ylabel('rate')\n",
    "plt.title('Accuracy rate on clean validation dataset')\n",
    "plt.grid('on')"
   ]
  },
  {
   "cell_type": "markdown",
   "metadata": {
    "id": "qkIwU0eozKq_"
   },
   "source": [
    "## 3. Results and evaluation"
   ]
  },
  {
   "cell_type": "markdown",
   "metadata": {
    "id": "NL7NhvSJMJ73"
   },
   "source": [
    "### 3.1 Build GoodNet and write to `myEval.py` script\n",
    "\n",
    "The following function is the method to build up the GoodNet. The fuction needs four inputs:\n",
    "- `model` which is the BadNet `model_B`\n",
    "- `model_prime` which is the BadNet after pruning `model_B_prime`\n",
    "- `data` which is the dataset we are going to predict on\n",
    "- `N` which is the number of clean class aka the label for the backdoored images\n",
    "\n",
    "A new evaluation script `myEval.py` is updated upon the original one. It requires four arguments:\n",
    "- `<path_data_cl>`: file path of clean dataset\n",
    "- `<path_data_bd>`: file path of backdoored dataset\n",
    "- `<path_model_b>`: file path of `model_B`\n",
    "- `<path_model_b_prime>`: file path of `model_B_prime`\n",
    "\n",
    "```\n",
    "python myEval.py <path_data_cl> <path_data_bd> <path_model_b> <path_model_b_prime>\n",
    "```\n",
    "\n",
    "We are going to use the new script to evaluate the performance of the GoodNet."
   ]
  },
  {
   "cell_type": "code",
   "execution_count": null,
   "metadata": {
    "id": "bdzu-LByYWhj"
   },
   "outputs": [],
   "source": [
    "def Good_Net(model, model_prime, data, N):\n",
    "    \"\"\"\n",
    "    GoodNet\n",
    "    \"\"\"\n",
    "    x = data\n",
    "    y_pred = np.argmax(model.predict(x), axis=1)\n",
    "    y_pred_prime = np.argmax(model_prime.predict(x), axis=1)\n",
    "    y_hat = [y_pred[i] if y_pred[i] == y_pred_prime[i] else N for i in range(len(y_pred))]\n",
    "    \n",
    "    return y_hat"
   ]
  },
  {
   "cell_type": "markdown",
   "metadata": {
    "id": "uz48tY6jLtqi"
   },
   "source": [
    "### 3.2 Repair networks for different X\n",
    "\n",
    "From the plot in Section 2.1, we select to prune 45, 48, 52 channels for X = 2%, 4%, 10%, respectively."
   ]
  },
  {
   "cell_type": "code",
   "execution_count": null,
   "metadata": {
    "colab": {
     "base_uri": "https://localhost:8080/"
    },
    "executionInfo": {
     "elapsed": 4623,
     "status": "ok",
     "timestamp": 1639356555579,
     "user": {
      "displayName": "Zhiying Cui",
      "photoUrl": "https://lh3.googleusercontent.com/a/default-user=s64",
      "userId": "00010876004313184189"
     },
     "user_tz": 300
    },
    "id": "OZVg1oGkE2ez",
    "outputId": "2b829995-4aea-44fb-ae42-5e550d283a63"
   },
   "outputs": [
    {
     "name": "stdout",
     "output_type": "stream",
     "text": [
      "original accuracy\n",
      "Clean Classification accuracy: 98.64899974019225\n",
      "accuracy after pruning 45 channels\n",
      "Clean Classification accuracy: 95.75647354291158\n",
      "accuracy drop: 2.9321%\n"
     ]
    },
    {
     "name": "stderr",
     "output_type": "stream",
     "text": [
      "/usr/local/lib/python3.7/dist-packages/keras/engine/functional.py:1410: CustomMaskWarning: Custom mask layers require a config and must override get_config. When loading, the custom mask layer must be passed to the custom_objects argument.\n",
      "  layer_config = serialize_layer_fn(layer)\n"
     ]
    }
   ],
   "source": [
    "# X = 2%\n",
    "model_B_prime_2 = keras.models.load_model(modelPath)\n",
    "layer = model_B_prime_2.get_layer('conv_3')\n",
    "weight, bias = layer.get_weights()\n",
    "\n",
    "iter = 0\n",
    "acc_cl = []\n",
    "print('original accuracy')\n",
    "acc_cl.append(get_accuracy_cl(model_B_prime_2, cl_x_valid, cl_y_valid))\n",
    "\n",
    "for i in idx_cl:\n",
    "    weight[:, :, :, i] = 0\n",
    "    bias[i] = 0\n",
    "    layer.set_weights([weight, bias])\n",
    "    iter += 1\n",
    "    if iter == 45:\n",
    "        break\n",
    "\n",
    "print('accuracy after pruning {} channels'.format(iter))\n",
    "acc_cl.append(get_accuracy_cl(model_B_prime_2, cl_x_valid, cl_y_valid))\n",
    "print('accuracy drop: {:.4f}%'.format((acc_cl[0] - acc_cl[-1]) / acc_cl[0] * 100))\n",
    "\n",
    "model_B_prime_2.save('/content/drive/MyDrive/EL-GY-9163/lab3/models/repaired_2.h5')"
   ]
  },
  {
   "cell_type": "code",
   "execution_count": 18,
   "metadata": {
    "colab": {
     "base_uri": "https://localhost:8080/"
    },
    "executionInfo": {
     "elapsed": 22427,
     "status": "ok",
     "timestamp": 1639356832965,
     "user": {
      "displayName": "Zhiying Cui",
      "photoUrl": "https://lh3.googleusercontent.com/a/default-user=s64",
      "userId": "00010876004313184189"
     },
     "user_tz": 300
    },
    "id": "o8fekrbDJxgm",
    "outputId": "c29e91e2-5612-441c-f344-9ad00ea22426"
   },
   "outputs": [
    {
     "name": "stdout",
     "output_type": "stream",
     "text": [
      "2021-12-13 00:53:36.596170: W tensorflow/core/common_runtime/gpu/gpu_bfc_allocator.cc:39] Overriding allow_growth setting because the TF_FORCE_GPU_ALLOW_GROWTH environment variable is set. Original config value was 0.\n",
      "2021-12-13 00:53:37.317799: W tensorflow/core/framework/cpu_allocator_impl.cc:82] Allocation of 397986600 exceeds 10% of free system memory.\n",
      "2021-12-13 00:53:40.549058: W tensorflow/core/framework/cpu_allocator_impl.cc:82] Allocation of 65843560 exceeds 10% of free system memory.\n",
      "2021-12-13 00:53:41.209349: W tensorflow/core/framework/cpu_allocator_impl.cc:82] Allocation of 397986600 exceeds 10% of free system memory.\n",
      "2021-12-13 00:53:43.051675: W tensorflow/core/framework/cpu_allocator_impl.cc:82] Allocation of 65843560 exceeds 10% of free system memory.\n",
      "Clean Classification Accuracy: 95.74434918160561\n",
      "2021-12-13 00:53:44.824527: W tensorflow/core/framework/cpu_allocator_impl.cc:82] Allocation of 397986600 exceeds 10% of free system memory.\n",
      "Attack Success Rate: 100.0\n"
     ]
    }
   ],
   "source": [
    "# evaluation X = 2%\n",
    "!python myEval.py data/cl/test.h5 data/bd/bd_test.h5 models/bd_net.h5 models/repaired_2.h5"
   ]
  },
  {
   "cell_type": "markdown",
   "metadata": {
    "id": "99NScvPwJ_wJ"
   },
   "source": [
    "\n",
    "\n",
    "---\n",
    "\n"
   ]
  },
  {
   "cell_type": "code",
   "execution_count": 19,
   "metadata": {
    "colab": {
     "base_uri": "https://localhost:8080/"
    },
    "executionInfo": {
     "elapsed": 6365,
     "status": "ok",
     "timestamp": 1639356859024,
     "user": {
      "displayName": "Zhiying Cui",
      "photoUrl": "https://lh3.googleusercontent.com/a/default-user=s64",
      "userId": "00010876004313184189"
     },
     "user_tz": 300
    },
    "id": "euzvcbLUIeVv",
    "outputId": "0c55f6c0-301c-413e-e975-d66e3155fa3c"
   },
   "outputs": [
    {
     "name": "stdout",
     "output_type": "stream",
     "text": [
      "original accuracy\n",
      "Clean Classification accuracy: 98.64899974019225\n",
      "accuracy after pruning 48 channels\n",
      "Clean Classification accuracy: 94.344851476574\n",
      "accuracy drop: 4.3631%\n"
     ]
    },
    {
     "name": "stderr",
     "output_type": "stream",
     "text": [
      "/usr/local/lib/python3.7/dist-packages/keras/engine/functional.py:1410: CustomMaskWarning: Custom mask layers require a config and must override get_config. When loading, the custom mask layer must be passed to the custom_objects argument.\n",
      "  layer_config = serialize_layer_fn(layer)\n"
     ]
    }
   ],
   "source": [
    "# X = 4%\n",
    "model_B_prime_4 = keras.models.load_model(modelPath)\n",
    "layer = model_B_prime_4.get_layer('conv_3')\n",
    "weight, bias = layer.get_weights()\n",
    "\n",
    "iter = 0\n",
    "acc_cl = []\n",
    "print('original accuracy')\n",
    "acc_cl.append(get_accuracy_cl(model_B_prime_4, cl_x_valid, cl_y_valid))\n",
    "\n",
    "for i in idx_cl:\n",
    "    weight[:, :, :, i] = 0\n",
    "    bias[i] = 0\n",
    "    layer.set_weights([weight, bias])\n",
    "    iter += 1\n",
    "    if iter == 48:\n",
    "        break\n",
    "\n",
    "print('accuracy after pruning {} channels'.format(iter))\n",
    "acc_cl.append(get_accuracy_cl(model_B_prime_4, cl_x_valid, cl_y_valid))\n",
    "print('accuracy drop: {:.4f}%'.format((acc_cl[0] - acc_cl[-1]) / acc_cl[0] * 100))\n",
    "\n",
    "model_B_prime_4.save('/content/drive/MyDrive/EL-GY-9163/lab3/models/repaired_4.h5')"
   ]
  },
  {
   "cell_type": "code",
   "execution_count": 22,
   "metadata": {
    "colab": {
     "base_uri": "https://localhost:8080/"
    },
    "executionInfo": {
     "elapsed": 21212,
     "status": "ok",
     "timestamp": 1639356899753,
     "user": {
      "displayName": "Zhiying Cui",
      "photoUrl": "https://lh3.googleusercontent.com/a/default-user=s64",
      "userId": "00010876004313184189"
     },
     "user_tz": 300
    },
    "id": "mH8hfApLKIDp",
    "outputId": "15b0e4f7-3464-4455-ef5a-24916fa89958"
   },
   "outputs": [
    {
     "name": "stdout",
     "output_type": "stream",
     "text": [
      "2021-12-13 00:54:45.231002: W tensorflow/core/common_runtime/gpu/gpu_bfc_allocator.cc:39] Overriding allow_growth setting because the TF_FORCE_GPU_ALLOW_GROWTH environment variable is set. Original config value was 0.\n",
      "2021-12-13 00:54:46.906070: W tensorflow/core/framework/cpu_allocator_impl.cc:82] Allocation of 397986600 exceeds 10% of free system memory.\n",
      "2021-12-13 00:54:50.095604: W tensorflow/core/framework/cpu_allocator_impl.cc:82] Allocation of 397986600 exceeds 10% of free system memory.\n",
      "Clean Classification Accuracy: 94.57521434138737\n",
      "2021-12-13 00:54:52.423330: W tensorflow/core/framework/cpu_allocator_impl.cc:82] Allocation of 397986600 exceeds 10% of free system memory.\n",
      "2021-12-13 00:54:55.592268: W tensorflow/core/framework/cpu_allocator_impl.cc:82] Allocation of 397986600 exceeds 10% of free system memory.\n",
      "Attack Success Rate: 99.98441153546376\n"
     ]
    }
   ],
   "source": [
    "# evaluation X = 4%\n",
    "!python myEval.py data/cl/test.h5 data/bd/bd_test.h5 models/bd_net.h5 models/repaired_4.h5"
   ]
  },
  {
   "cell_type": "markdown",
   "metadata": {
    "id": "qNOWcKK6KDnB"
   },
   "source": [
    "\n",
    "\n",
    "---\n",
    "\n"
   ]
  },
  {
   "cell_type": "code",
   "execution_count": 23,
   "metadata": {
    "colab": {
     "base_uri": "https://localhost:8080/"
    },
    "executionInfo": {
     "elapsed": 6070,
     "status": "ok",
     "timestamp": 1639356906190,
     "user": {
      "displayName": "Zhiying Cui",
      "photoUrl": "https://lh3.googleusercontent.com/a/default-user=s64",
      "userId": "00010876004313184189"
     },
     "user_tz": 300
    },
    "id": "JUWmhcRqI1lH",
    "outputId": "5abf128d-c646-4fd5-9bfa-4ebd59c598ce"
   },
   "outputs": [
    {
     "name": "stdout",
     "output_type": "stream",
     "text": [
      "original accuracy\n",
      "Clean Classification accuracy: 98.64899974019225\n",
      "accuracy after pruning 52 channels\n",
      "Clean Classification accuracy: 84.43751623798389\n",
      "accuracy drop: 14.4061%\n"
     ]
    },
    {
     "name": "stderr",
     "output_type": "stream",
     "text": [
      "/usr/local/lib/python3.7/dist-packages/keras/engine/functional.py:1410: CustomMaskWarning: Custom mask layers require a config and must override get_config. When loading, the custom mask layer must be passed to the custom_objects argument.\n",
      "  layer_config = serialize_layer_fn(layer)\n"
     ]
    }
   ],
   "source": [
    "# X = 10%\n",
    "model_B_prime_10 = keras.models.load_model(modelPath)\n",
    "layer = model_B_prime_10.get_layer('conv_3')\n",
    "weight, bias = layer.get_weights()\n",
    "\n",
    "iter = 0\n",
    "acc_cl = []\n",
    "print('original accuracy')\n",
    "acc_cl.append(get_accuracy_cl(model_B_prime_10, cl_x_valid, cl_y_valid))\n",
    "\n",
    "for i in idx_cl:\n",
    "    weight[:, :, :, i] = 0\n",
    "    bias[i] = 0\n",
    "    layer.set_weights([weight, bias])\n",
    "    iter += 1\n",
    "    if iter == 52:\n",
    "        break\n",
    "print('accuracy after pruning {} channels'.format(iter))\n",
    "acc_cl.append(get_accuracy_cl(model_B_prime_10, cl_x_valid, cl_y_valid))\n",
    "print('accuracy drop: {:.4f}%'.format((acc_cl[0] - acc_cl[-1]) / acc_cl[0] * 100))\n",
    "\n",
    "model_B_prime_10.save('/content/drive/MyDrive/EL-GY-9163/lab3/models/repaired_10.h5')"
   ]
  },
  {
   "cell_type": "code",
   "execution_count": 24,
   "metadata": {
    "colab": {
     "base_uri": "https://localhost:8080/"
    },
    "executionInfo": {
     "elapsed": 18014,
     "status": "ok",
     "timestamp": 1639356924202,
     "user": {
      "displayName": "Zhiying Cui",
      "photoUrl": "https://lh3.googleusercontent.com/a/default-user=s64",
      "userId": "00010876004313184189"
     },
     "user_tz": 300
    },
    "id": "rly0OTbfKLaD",
    "outputId": "233a8e55-ff07-47ba-c857-3005c8a9bae4"
   },
   "outputs": [
    {
     "name": "stdout",
     "output_type": "stream",
     "text": [
      "2021-12-13 00:55:12.239881: W tensorflow/core/common_runtime/gpu/gpu_bfc_allocator.cc:39] Overriding allow_growth setting because the TF_FORCE_GPU_ALLOW_GROWTH environment variable is set. Original config value was 0.\n",
      "2021-12-13 00:55:12.957327: W tensorflow/core/framework/cpu_allocator_impl.cc:82] Allocation of 397986600 exceeds 10% of free system memory.\n",
      "2021-12-13 00:55:15.942788: W tensorflow/core/framework/cpu_allocator_impl.cc:82] Allocation of 397986600 exceeds 10% of free system memory.\n",
      "Clean Classification Accuracy: 84.3335931410756\n",
      "2021-12-13 00:55:18.208351: W tensorflow/core/framework/cpu_allocator_impl.cc:82] Allocation of 397986600 exceeds 10% of free system memory.\n",
      "2021-12-13 00:55:21.372860: W tensorflow/core/framework/cpu_allocator_impl.cc:82] Allocation of 397986600 exceeds 10% of free system memory.\n",
      "Attack Success Rate: 77.20966484801247\n"
     ]
    }
   ],
   "source": [
    "# evaluation X = 10%\n",
    "!python myEval.py data/cl/test.h5 data/bd/bd_test.h5 models/bd_net.h5 models/repaired_10.h5"
   ]
  },
  {
   "cell_type": "markdown",
   "metadata": {
    "id": "TJVV3drCSTIh"
   },
   "source": [
    "To summary, the performance of the GoodNet is given in the table.\n",
    "\n",
    "| GoodNet | X   | Drop in accuracy | #Pruned channels | Accuracy on clean dataset | Attack succeed rate on backdoored dataset |\n",
    "|---------|-----|------------------|------------------|---------------------------|-------------------------------------------|\n",
    "| 1       | 2%  | 2.93%            | 45               | 95.74%                    | 100.00%                                   |\n",
    "| 2       | 4%  | 4.36%            | 48               | 94.58%                    | 99.98%                                    |\n",
    "| 3       | 10% | 14.41%           | 52               | 84.33%                    | 77.21%                                    |"
   ]
  },
  {
   "cell_type": "markdown",
   "metadata": {
    "id": "IfQ9VtEDB6-c"
   },
   "source": [
    "### 3.3 Plot the accuracy on clean test data and the attack success rate vs the fraction of channels pruned"
   ]
  },
  {
   "cell_type": "markdown",
   "metadata": {
    "id": "961pq2HYQyy8"
   },
   "source": [
    "Because of the limited computing source of colab, it always get crushed for limited RAM when calculating the accuracy and attack succeed rate simultaneously. From the results in section 2.2, we believe it is safe to directly prune the first 35 channels and assume the accuracy and the attack succeed rate are both maintained."
   ]
  },
  {
   "cell_type": "code",
   "execution_count": 25,
   "metadata": {
    "colab": {
     "base_uri": "https://localhost:8080/"
    },
    "executionInfo": {
     "elapsed": 138847,
     "status": "ok",
     "timestamp": 1639357645179,
     "user": {
      "displayName": "Zhiying Cui",
      "photoUrl": "https://lh3.googleusercontent.com/a/default-user=s64",
      "userId": "00010876004313184189"
     },
     "user_tz": 300
    },
    "id": "YRMyxEvdOR1U",
    "outputId": "f5c4f4f5-7dc3-4f83-bdbb-440f639fdef0"
   },
   "outputs": [
    {
     "name": "stdout",
     "output_type": "stream",
     "text": [
      "original accuracy\n",
      "Clean Classification accuracy: 98.62042088854248\n",
      "Attack Success Rate: 100.0\n",
      "iteration  36\n",
      "Clean Classification accuracy: 98.60483242400623\n",
      "Attack Success Rate: 100.0\n",
      "iteration  37\n",
      "Clean Classification accuracy: 98.60483242400623\n",
      "Attack Success Rate: 100.0\n",
      "iteration  38\n",
      "Clean Classification accuracy: 98.58924395947\n",
      "Attack Success Rate: 100.0\n",
      "iteration  39\n",
      "Clean Classification accuracy: 98.55027279812938\n",
      "Attack Success Rate: 100.0\n",
      "iteration  40\n",
      "Clean Classification accuracy: 98.53468433359313\n",
      "Attack Success Rate: 100.0\n",
      "iteration  41\n",
      "Clean Classification accuracy: 98.28526890101324\n",
      "Attack Success Rate: 100.0\n",
      "iteration  42\n",
      "Clean Classification accuracy: 98.269680436477\n",
      "Attack Success Rate: 100.0\n",
      "iteration  43\n",
      "Clean Classification accuracy: 97.88776305533905\n",
      "Attack Success Rate: 100.0\n",
      "iteration  44\n",
      "Clean Classification accuracy: 97.66173031956352\n",
      "Attack Success Rate: 100.0\n",
      "iteration  45\n",
      "Clean Classification accuracy: 95.90023382696803\n",
      "Attack Success Rate: 100.0\n",
      "iteration  46\n",
      "Clean Classification accuracy: 95.5261106780982\n",
      "Attack Success Rate: 99.97661730319564\n",
      "iteration  47\n",
      "Clean Classification accuracy: 95.22213561964146\n",
      "Attack Success Rate: 99.97661730319564\n",
      "iteration  48\n",
      "Clean Classification accuracy: 94.77007014809041\n",
      "Attack Success Rate: 99.98441153546376\n",
      "iteration  49\n",
      "Clean Classification accuracy: 94.17770849571318\n",
      "Attack Success Rate: 99.97661730319564\n",
      "iteration  50\n",
      "Clean Classification accuracy: 92.50974279033515\n",
      "Attack Success Rate: 80.576773187841\n",
      "iteration  51\n",
      "Clean Classification accuracy: 89.84411535463757\n",
      "Attack Success Rate: 80.6469212782541\n",
      "iteration  52\n",
      "Clean Classification accuracy: 84.54403741231489\n",
      "Attack Success Rate: 77.20966484801247\n",
      "iteration  53\n",
      "Clean Classification accuracy: 76.30553390491036\n",
      "Attack Success Rate: 36.26656274356976\n",
      "iteration  54\n",
      "Clean Classification accuracy: 44.67653936087295\n",
      "Attack Success Rate: 16.03273577552611\n",
      "iteration  55\n",
      "Clean Classification accuracy: 27.918939984411534\n",
      "Attack Success Rate: 3.72564302416212\n",
      "iteration  56\n",
      "Clean Classification accuracy: 13.834762275915821\n",
      "Attack Success Rate: 16.399064692127826\n",
      "iteration  57\n",
      "Clean Classification accuracy: 5.728760717069369\n",
      "Attack Success Rate: 0.303975058456742\n",
      "iteration  58\n",
      "Clean Classification accuracy: 1.5198752922837102\n",
      "Attack Success Rate: 0.0\n",
      "iteration  59\n",
      "Clean Classification accuracy: 0.646921278254092\n",
      "Attack Success Rate: 0.0\n",
      "iteration  60\n",
      "Clean Classification accuracy: 0.0779423226812159\n",
      "Attack Success Rate: 0.0\n"
     ]
    }
   ],
   "source": [
    "# save the outputs in each iteration using clean test dataset\n",
    "model_B_prime = keras.models.load_model(modelPath)\n",
    "layer = model_B_prime.get_layer('conv_3')\n",
    "weight, bias = layer.get_weights()\n",
    "\n",
    "iter = 0\n",
    "acc_cl = []\n",
    "asr_bd = []\n",
    "iters = []\n",
    "print('original accuracy')\n",
    "acc_cl.append(get_accuracy_cl(model_B_prime, cl_x_test, cl_y_test))\n",
    "asr_bd.append(get_attack_rate_bd(model_B_prime, bd_x_test, bd_y_test))\n",
    "iters.append(iter)\n",
    "\n",
    "for i in idx_cl:\n",
    "    weight[:, :, :, i] = 0\n",
    "    bias[i] = 0\n",
    "    layer.set_weights([weight, bias])\n",
    "    iter += 1\n",
    "    if iter <= 35:\n",
    "        continue\n",
    "    print('iteration ', iter)\n",
    "    acc_cl.append(get_accuracy_cl(model_B_prime, cl_x_test, cl_y_test))\n",
    "    asr_bd.append(get_attack_rate_bd(model_B_prime, bd_x_test, bd_y_test))\n",
    "    iters.append(iter)"
   ]
  },
  {
   "cell_type": "markdown",
   "metadata": {
    "id": "WfNzkjaYPKBL"
   },
   "source": [
    "Plot the accuracy on clean test data and the attack success rate vs the fraction of channels pruned."
   ]
  },
  {
   "cell_type": "code",
   "execution_count": 27,
   "metadata": {
    "colab": {
     "base_uri": "https://localhost:8080/",
     "height": 350
    },
    "executionInfo": {
     "elapsed": 404,
     "status": "ok",
     "timestamp": 1639357737020,
     "user": {
      "displayName": "Zhiying Cui",
      "photoUrl": "https://lh3.googleusercontent.com/a/default-user=s64",
      "userId": "00010876004313184189"
     },
     "user_tz": 300
    },
    "id": "kDl9dpUPPJbJ",
    "outputId": "f84c1fe0-4f9a-4d9e-df8e-0011a2085939"
   },
   "outputs": [
    {
     "data": {
      "image/png": "[encoded data removed]",
      "text/plain": [
       "<Figure size 360x360 with 1 Axes>"
      ]
     },
     "metadata": {
      "needs_background": "light"
     },
     "output_type": "display_data"
    }
   ],
   "source": [
    "# plot the results\n",
    "fraction = np.array(iters) / iters[-1]\n",
    "\n",
    "plt.figure(figsize=(5, 5))\n",
    "plt.plot(fraction, acc_cl / acc_cl[0], label='accuracy')\n",
    "plt.plot(fraction, asr_bd / asr_bd[0], label='attack succeed rate')\n",
    "plt.xlabel('fraction of channels')\n",
    "plt.ylabel('rate')\n",
    "plt.title('Rate on test dataset')\n",
    "plt.legend()\n",
    "plt.grid()"
   ]
  }
 ],
 "metadata": {
  "colab": {
   "collapsed_sections": [],
   "name": "main.ipynb",
   "provenance": [],
   "toc_visible": true
  },
  "kernelspec": {
   "display_name": "Python 3",
   "language": "python",
   "name": "python3"
  },
  "language_info": {
   "codemirror_mode": {
    "name": "ipython",
    "version": 3
   },
   "file_extension": ".py",
   "mimetype": "text/x-python",
   "name": "python",
   "nbconvert_exporter": "python",
   "pygments_lexer": "ipython3",
   "version": "3.8.8"
  }
 },
 "nbformat": 4,
 "nbformat_minor": 1
}
